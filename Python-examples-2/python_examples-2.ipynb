{
 "cells": [
  {
   "cell_type": "raw",
   "id": "53cafa60-f149-4e15-96b3-0c4e51ad4b9e",
   "metadata": {},
   "source": [
    "    Sayısal Desen Oluşturma"
   ]
  },
  {
   "cell_type": "code",
   "execution_count": 3,
   "id": "03ad66d3-dbd6-4af1-83d4-f8c483de2513",
   "metadata": {},
   "outputs": [
    {
     "name": "stdin",
     "output_type": "stream",
     "text": [
      "Bir sayı girin:  10\n"
     ]
    },
    {
     "name": "stdout",
     "output_type": "stream",
     "text": [
      "1 \n",
      "1 2 \n",
      "1 2 3 \n",
      "1 2 3 4 \n",
      "1 2 3 4 5 \n",
      "1 2 3 4 5 6 \n",
      "1 2 3 4 5 6 7 \n",
      "1 2 3 4 5 6 7 8 \n",
      "1 2 3 4 5 6 7 8 9 \n",
      "1 2 3 4 5 6 7 8 9 10 \n"
     ]
    }
   ],
   "source": [
    "n=int(input(\"Bir sayı girin: \"))\n",
    "for i in range(1,n+1):\n",
    "    for j in range(1,i+1):\n",
    "        print(j,end=\" \")\n",
    "    print() # döngü bittiğinde her defasında bir alt satıra geçilmesini sağlar."
   ]
  },
  {
   "cell_type": "raw",
   "id": "9838d9a5-b33e-41dc-b261-0e210f5c7a53",
   "metadata": {},
   "source": [
    "********************************************************************************************"
   ]
  },
  {
   "cell_type": "raw",
   "id": "1c40632c-5c18-4fe3-950f-12747a4e98f7",
   "metadata": {},
   "source": [
    "    Metni Ters Çevirme "
   ]
  },
  {
   "cell_type": "code",
   "execution_count": 5,
   "id": "e6b0fe0f-3ad0-4d36-81c9-fc1d10dc2629",
   "metadata": {},
   "outputs": [
    {
     "name": "stdin",
     "output_type": "stream",
     "text": [
      "Bir metin girin:  samet\n"
     ]
    },
    {
     "name": "stdout",
     "output_type": "stream",
     "text": [
      "Girmiş olduğunuz metnin tersi:  tms\n"
     ]
    }
   ],
   "source": [
    "metin=input(\"Bir metin girin: \")\n",
    "ters=metin[::-1]\n",
    "print(\"Girmiş olduğunuz metnin tersi: \",ters)"
   ]
  },
  {
   "cell_type": "raw",
   "id": "a057ea4a-a758-46ad-ae46-08eaa347ac30",
   "metadata": {},
   "source": [
    "***********************************************************************************************"
   ]
  },
  {
   "cell_type": "raw",
   "id": "17f09656-b4d4-4141-8b7d-39d15f3759f0",
   "metadata": {},
   "source": [
    "    Kelime Tahmin Oyunu(Adam Asmaca)"
   ]
  },
  {
   "cell_type": "code",
   "execution_count": 7,
   "id": "2260e3df-c519-4670-9758-00a8127bb300",
   "metadata": {},
   "outputs": [
    {
     "name": "stdout",
     "output_type": "stream",
     "text": [
      "_ _ _ _ _ _\n"
     ]
    },
    {
     "name": "stdin",
     "output_type": "stream",
     "text": [
      "Bir harf tahmin edin:  p\n"
     ]
    },
    {
     "name": "stdout",
     "output_type": "stream",
     "text": [
      "p _ _ _ _ _\n"
     ]
    },
    {
     "name": "stdin",
     "output_type": "stream",
     "text": [
      "Bir harf tahmin edin:  y\n"
     ]
    },
    {
     "name": "stdout",
     "output_type": "stream",
     "text": [
      "p y _ _ _ _\n"
     ]
    },
    {
     "name": "stdin",
     "output_type": "stream",
     "text": [
      "Bir harf tahmin edin:  t\n"
     ]
    },
    {
     "name": "stdout",
     "output_type": "stream",
     "text": [
      "p y t _ _ _\n"
     ]
    },
    {
     "name": "stdin",
     "output_type": "stream",
     "text": [
      "Bir harf tahmin edin:  h\n"
     ]
    },
    {
     "name": "stdout",
     "output_type": "stream",
     "text": [
      "p y t h _ _\n"
     ]
    },
    {
     "name": "stdin",
     "output_type": "stream",
     "text": [
      "Bir harf tahmin edin:  o\n"
     ]
    },
    {
     "name": "stdout",
     "output_type": "stream",
     "text": [
      "p y t h o _\n"
     ]
    },
    {
     "name": "stdin",
     "output_type": "stream",
     "text": [
      "Bir harf tahmin edin:  n\n"
     ]
    },
    {
     "name": "stdout",
     "output_type": "stream",
     "text": [
      "Tebrikler! Kelime: python\n"
     ]
    }
   ],
   "source": [
    "import random\n",
    "\n",
    "kelimeler = [\"python\", \"programlama\", \"bilgisayar\", \"kodlama\"]\n",
    "gizli_kelime = random.choice(kelimeler)\n",
    "tahmin_edilen = [\"_\"] * len(gizli_kelime)\n",
    "hak = 6\n",
    "\n",
    "while hak > 0 and \"_\" in tahmin_edilen:\n",
    "    print(\" \".join(tahmin_edilen))\n",
    "    harf = input(\"Bir harf tahmin edin: \").lower()\n",
    "\n",
    "    if harf in gizli_kelime:\n",
    "        for i, c in enumerate(gizli_kelime):\n",
    "            if c == harf:\n",
    "                tahmin_edilen[i] = harf\n",
    "    else:\n",
    "        hak -= 1\n",
    "        print(f\"Yanlış! Kalan hak: {hak}\")\n",
    "\n",
    "if \"_\" not in tahmin_edilen:\n",
    "    print(\"Tebrikler! Kelime:\", gizli_kelime)\n",
    "else:\n",
    "    print(\"Oyun bitti! Doğru kelime:\", gizli_kelime)\n"
   ]
  },
  {
   "cell_type": "code",
   "execution_count": null,
   "id": "a001ddd8-d414-4471-be33-f2123b85c785",
   "metadata": {},
   "outputs": [],
   "source": []
  }
 ],
 "metadata": {
  "kernelspec": {
   "display_name": "Python [conda env:base] *",
   "language": "python",
   "name": "conda-base-py"
  },
  "language_info": {
   "codemirror_mode": {
    "name": "ipython",
    "version": 3
   },
   "file_extension": ".py",
   "mimetype": "text/x-python",
   "name": "python",
   "nbconvert_exporter": "python",
   "pygments_lexer": "ipython3",
   "version": "3.13.5"
  }
 },
 "nbformat": 4,
 "nbformat_minor": 5
}
